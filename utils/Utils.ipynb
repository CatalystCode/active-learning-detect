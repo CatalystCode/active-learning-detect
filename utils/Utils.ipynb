{
 "cells": [
  {
   "cell_type": "markdown",
   "metadata": {},
   "source": [
    "## Split data"
   ]
  },
  {
   "cell_type": "code",
   "execution_count": 16,
   "metadata": {
    "collapsed": true
   },
   "outputs": [],
   "source": [
    "import os\n",
    "import shutil"
   ]
  },
  {
   "cell_type": "code",
   "execution_count": 17,
   "metadata": {
    "collapsed": false
   },
   "outputs": [],
   "source": [
    "DATA_PATH = r'C:\\data\\woodknots\\board_images_png'\n",
    "DATA_SET1_PATH =  r'C:\\data\\woodknots\\board_images_set1'\n",
    "DATA_SET2_PATH =  r'C:\\data\\woodknots\\board_images_set2'\n",
    "DATA_SET_PRED_PATH =  r'C:\\data\\woodknots\\board_images_set_pred'\n",
    "SET1_FILE_CNT = 150\n",
    "SET2_FILE_CNT = 150"
   ]
  },
  {
   "cell_type": "code",
   "execution_count": 20,
   "metadata": {
    "collapsed": false
   },
   "outputs": [],
   "source": [
    "def do_copy(src, file_name, dest):\n",
    "    full_file_name = os.path.join(src, file_name)\n",
    "    if (os.path.isfile(full_file_name)):\n",
    "        shutil.copy(full_file_name, dest)\n",
    "        \n",
    "def loop_copy(src_files, src, dest):\n",
    "    i = 0\n",
    "    for file_name in src_files: \n",
    "        do_copy(src, file_name, dest)\n",
    "        i = i +1\n",
    "    print(\"Copied {0} files to {1}\".format(i, dest))"
   ]
  },
  {
   "cell_type": "code",
   "execution_count": 22,
   "metadata": {
    "collapsed": false
   },
   "outputs": [
    {
     "name": "stdout",
     "output_type": "stream",
     "text": [
      "Copied 150 files to C:\\data\\woodknots\\board_images_set1\n",
      "Copied 150 files to C:\\data\\woodknots\\board_images_set2\n",
      "Copied 539 files to C:\\data\\woodknots\\board_images_set_pred\n"
     ]
    }
   ],
   "source": [
    "src_files = os.listdir(DATA_PATH)\n",
    "os.makedirs(DATA_SET1_PATH, exist_ok=True)\n",
    "os.makedirs(DATA_SET2_PATH, exist_ok=True)\n",
    "os.makedirs(DATA_SET_PRED_PATH, exist_ok=True)\n",
    "i = 0\n",
    "src_files_set1 = src_files[0:SET1_FILE_CNT]\n",
    "src_files_set2 = src_files[SET1_FILE_CNT: SET1_FILE_CNT + SET2_FILE_CNT]\n",
    "src_files_set3 = src_files[SET1_FILE_CNT + SET2_FILE_CNT:]\n",
    "loop_copy(src_files_set1, DATA_PATH, DATA_SET1_PATH)\n",
    "loop_copy(src_files_set2, DATA_PATH, DATA_SET2_PATH)\n",
    "loop_copy(src_files_set3, DATA_PATH, DATA_SET_PRED_PATH)\n"
   ]
  }
 ],
 "metadata": {
  "kernelspec": {
   "display_name": "tf-py352",
   "language": "python",
   "name": "tf-py352"
  },
  "language_info": {
   "codemirror_mode": {
    "name": "ipython",
    "version": 3
   },
   "file_extension": ".py",
   "mimetype": "text/x-python",
   "name": "python",
   "nbconvert_exporter": "python",
   "pygments_lexer": "ipython3",
   "version": "3.5.2"
  }
 },
 "nbformat": 4,
 "nbformat_minor": 0
}
